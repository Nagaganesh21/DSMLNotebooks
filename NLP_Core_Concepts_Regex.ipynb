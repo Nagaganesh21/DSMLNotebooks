{
  "nbformat": 4,
  "nbformat_minor": 0,
  "metadata": {
    "colab": {
      "provenance": []
    },
    "kernelspec": {
      "name": "python3",
      "display_name": "Python 3"
    },
    "language_info": {
      "name": "python"
    }
  },
  "cells": [
    {
      "cell_type": "code",
      "execution_count": 20,
      "metadata": {
        "id": "VAytY1EsfGtX",
        "colab": {
          "base_uri": "https://localhost:8080/"
        },
        "outputId": "bf159a34-9a51-483c-9c85-048b59913e8f"
      },
      "outputs": [
        {
          "output_type": "stream",
          "name": "stderr",
          "text": [
            "[nltk_data] Downloading package punkt to /root/nltk_data...\n",
            "[nltk_data]   Package punkt is already up-to-date!\n"
          ]
        }
      ],
      "source": [
        "import nltk\n",
        "nltk.download('punkt')\n",
        "import re\n",
        "\n",
        "from nltk import FreqDist\n",
        "import matplotlib.pyplot as plt\n",
        "from nltk.tokenize import sent_tokenize, word_tokenize"
      ]
    },
    {
      "cell_type": "code",
      "source": [
        "# Sample text corpus\n",
        "corpus = \"\"\"Spider-Man: No Way Home is a 2021 American superhero film based on the Marvel Comics character Spider-Man, co-produced by Columbia Pictures and Marvel Studios, and distributed by Sony Pictures Releasing. It is the sequel to Spider-Man: Homecoming (2017) and Spider-Man: Far From Home (2019), and the 27th film in the Marvel Cinematic Universe (MCU). The film was directed by Jon Watts and written by Chris McKenna and Erik Sommers. It stars Tom Holland as Peter Parker / Spider-Man alongside Zendaya, Benedict Cumberbatch, Jacob Batalon, Jon Favreau, Jamie Foxx, Willem Dafoe, Alfred Molina, Benedict Wong, Tony Revolori, Marisa Tomei, Andrew Garfield, and Tobey Maguire. (Source: Wikipedia).\"\"\"\n",
        "print(corpus)"
      ],
      "metadata": {
        "colab": {
          "base_uri": "https://localhost:8080/"
        },
        "id": "NIYYPlST3395",
        "outputId": "0ee49de8-589b-474b-c486-759bb0e9914f"
      },
      "execution_count": 21,
      "outputs": [
        {
          "output_type": "stream",
          "name": "stdout",
          "text": [
            "Spider-Man: No Way Home is a 2021 American superhero film based on the Marvel Comics character Spider-Man, co-produced by Columbia Pictures and Marvel Studios, and distributed by Sony Pictures Releasing. It is the sequel to Spider-Man: Homecoming (2017) and Spider-Man: Far From Home (2019), and the 27th film in the Marvel Cinematic Universe (MCU). The film was directed by Jon Watts and written by Chris McKenna and Erik Sommers. It stars Tom Holland as Peter Parker / Spider-Man alongside Zendaya, Benedict Cumberbatch, Jacob Batalon, Jon Favreau, Jamie Foxx, Willem Dafoe, Alfred Molina, Benedict Wong, Tony Revolori, Marisa Tomei, Andrew Garfield, and Tobey Maguire. (Source: Wikipedia).\n"
          ]
        }
      ]
    },
    {
      "cell_type": "code",
      "source": [
        "# extracts numbers from the text\n",
        "print(re.findall('\\d+', corpus))"
      ],
      "metadata": {
        "colab": {
          "base_uri": "https://localhost:8080/"
        },
        "id": "mfgp0MOwG0tP",
        "outputId": "d750dce2-1c01-4261-c5d9-dc0fb712c341"
      },
      "execution_count": 22,
      "outputs": [
        {
          "output_type": "stream",
          "name": "stdout",
          "text": [
            "['2021', '2017', '2019', '27']\n"
          ]
        }
      ]
    },
    {
      "cell_type": "code",
      "source": [
        "print(re.findall('\\D+', corpus))"
      ],
      "metadata": {
        "colab": {
          "base_uri": "https://localhost:8080/"
        },
        "id": "yl2SIjfMG0xA",
        "outputId": "92c4baab-be9a-4def-a52c-152bb49a2ca3"
      },
      "execution_count": 23,
      "outputs": [
        {
          "output_type": "stream",
          "name": "stdout",
          "text": [
            "['Spider-Man: No Way Home is a ', ' American superhero film based on the Marvel Comics character Spider-Man, co-produced by Columbia Pictures and Marvel Studios, and distributed by Sony Pictures Releasing. It is the sequel to Spider-Man: Homecoming (', ') and Spider-Man: Far From Home (', '), and the ', 'th film in the Marvel Cinematic Universe (MCU). The film was directed by Jon Watts and written by Chris McKenna and Erik Sommers. It stars Tom Holland as Peter Parker / Spider-Man alongside Zendaya, Benedict Cumberbatch, Jacob Batalon, Jon Favreau, Jamie Foxx, Willem Dafoe, Alfred Molina, Benedict Wong, Tony Revolori, Marisa Tomei, Andrew Garfield, and Tobey Maguire. (Source: Wikipedia).']\n"
          ]
        }
      ]
    },
    {
      "cell_type": "code",
      "source": [
        "#find the number of vowels in the text.\n",
        "vowels = re.findall('[aeiou]', corpus)\n",
        "print(len(vowels))"
      ],
      "metadata": {
        "colab": {
          "base_uri": "https://localhost:8080/"
        },
        "id": "tELa2W26G03A",
        "outputId": "7d85809f-bbf8-4a59-f81d-dc2afba4fd5a"
      },
      "execution_count": 24,
      "outputs": [
        {
          "output_type": "stream",
          "name": "stdout",
          "text": [
            "196\n"
          ]
        }
      ]
    },
    {
      "cell_type": "code",
      "source": [
        "# find the number of times the word 'Spider-man' was used in the corpus\n",
        "print(len(re.findall('Spider-Man', corpus)))"
      ],
      "metadata": {
        "colab": {
          "base_uri": "https://localhost:8080/"
        },
        "id": "NsDRRpl_q654",
        "outputId": "5d0bbf66-3498-4f55-f730-8192a0dfaa9c"
      },
      "execution_count": 25,
      "outputs": [
        {
          "output_type": "stream",
          "name": "stdout",
          "text": [
            "5\n"
          ]
        }
      ]
    },
    {
      "cell_type": "code",
      "source": [
        "# Extract Directors and Writers\n",
        "directors = re.findall(r'directed by ([A-Za-z ]+)', corpus)\n",
        "writers = re.findall(r'written by ([A-Za-z ]+)', corpus)\n",
        "print(\"Directors:\", directors)\n",
        "print(\"Writers:\", writers)"
      ],
      "metadata": {
        "colab": {
          "base_uri": "https://localhost:8080/"
        },
        "id": "rjhlTx-u4WR9",
        "outputId": "1ab37c62-d259-4f8a-8ec2-2fa1955890b0"
      },
      "execution_count": 26,
      "outputs": [
        {
          "output_type": "stream",
          "name": "stdout",
          "text": [
            "Directors: ['Jon Watts and written by Chris McKenna and Erik Sommers']\n",
            "Writers: ['Chris McKenna and Erik Sommers']\n"
          ]
        }
      ]
    },
    {
      "cell_type": "code",
      "source": [
        "#Extract Cast Members\n",
        "cast = re.findall(r'stars ([A-Za-z /,]+)', corpus)\n",
        "print(\"Cast:\", cast)\n"
      ],
      "metadata": {
        "colab": {
          "base_uri": "https://localhost:8080/"
        },
        "id": "J4PtwEIF4ZsD",
        "outputId": "69c6d6a8-919e-4a17-e707-bcafef10bc4a"
      },
      "execution_count": 27,
      "outputs": [
        {
          "output_type": "stream",
          "name": "stdout",
          "text": [
            "Cast: ['Tom Holland as Peter Parker / Spider']\n"
          ]
        }
      ]
    },
    {
      "cell_type": "code",
      "source": [
        "# find all capitalized words and print the result\n",
        "capitalwords = \"[A-Z]\\w+\"\n",
        "print(re.findall(capitalwords, corpus))\n"
      ],
      "metadata": {
        "colab": {
          "base_uri": "https://localhost:8080/"
        },
        "id": "DkY85Kkaq6-M",
        "outputId": "2628d5f1-825c-4b8e-f3aa-34343980dac1"
      },
      "execution_count": 28,
      "outputs": [
        {
          "output_type": "stream",
          "name": "stdout",
          "text": [
            "['Spider', 'Man', 'No', 'Way', 'Home', 'American', 'Marvel', 'Comics', 'Spider', 'Man', 'Columbia', 'Pictures', 'Marvel', 'Studios', 'Sony', 'Pictures', 'Releasing', 'It', 'Spider', 'Man', 'Homecoming', 'Spider', 'Man', 'Far', 'From', 'Home', 'Marvel', 'Cinematic', 'Universe', 'MCU', 'The', 'Jon', 'Watts', 'Chris', 'McKenna', 'Erik', 'Sommers', 'It', 'Tom', 'Holland', 'Peter', 'Parker', 'Spider', 'Man', 'Zendaya', 'Benedict', 'Cumberbatch', 'Jacob', 'Batalon', 'Jon', 'Favreau', 'Jamie', 'Foxx', 'Willem', 'Dafoe', 'Alfred', 'Molina', 'Benedict', 'Wong', 'Tony', 'Revolori', 'Marisa', 'Tomei', 'Andrew', 'Garfield', 'Tobey', 'Maguire', 'Source', 'Wikipedia']\n"
          ]
        }
      ]
    },
    {
      "cell_type": "code",
      "source": [
        "#substitute the matched text with the contents in the replace variable\n",
        "print(re.sub(\"Spider-Man\", \"Spiderman\", corpus))"
      ],
      "metadata": {
        "colab": {
          "base_uri": "https://localhost:8080/"
        },
        "id": "M7fjsV59q7CG",
        "outputId": "c37de436-77d6-4333-e513-a7434cf3c045"
      },
      "execution_count": 29,
      "outputs": [
        {
          "output_type": "stream",
          "name": "stdout",
          "text": [
            "Spiderman: No Way Home is a 2021 American superhero film based on the Marvel Comics character Spiderman, co-produced by Columbia Pictures and Marvel Studios, and distributed by Sony Pictures Releasing. It is the sequel to Spiderman: Homecoming (2017) and Spiderman: Far From Home (2019), and the 27th film in the Marvel Cinematic Universe (MCU). The film was directed by Jon Watts and written by Chris McKenna and Erik Sommers. It stars Tom Holland as Peter Parker / Spiderman alongside Zendaya, Benedict Cumberbatch, Jacob Batalon, Jon Favreau, Jamie Foxx, Willem Dafoe, Alfred Molina, Benedict Wong, Tony Revolori, Marisa Tomei, Andrew Garfield, and Tobey Maguire. (Source: Wikipedia).\n"
          ]
        }
      ]
    },
    {
      "cell_type": "code",
      "source": [
        "# re.search\n",
        "# try to find if the word 'Marvel' is at the beginning of the sentence\n",
        "match = re.search('\\AMarvel', corpus)\n",
        "print(match)"
      ],
      "metadata": {
        "colab": {
          "base_uri": "https://localhost:8080/"
        },
        "id": "eO4Jwumzq7GO",
        "outputId": "90d99a7c-e162-45aa-cea2-f7f3a86bf7fa"
      },
      "execution_count": 30,
      "outputs": [
        {
          "output_type": "stream",
          "name": "stdout",
          "text": [
            "None\n"
          ]
        }
      ]
    },
    {
      "cell_type": "code",
      "source": [],
      "metadata": {
        "id": "s5LMZceu2Jy2"
      },
      "execution_count": 30,
      "outputs": []
    }
  ]
}