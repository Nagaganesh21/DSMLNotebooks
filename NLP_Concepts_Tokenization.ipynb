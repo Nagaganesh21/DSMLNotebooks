{
  "nbformat": 4,
  "nbformat_minor": 0,
  "metadata": {
    "colab": {
      "provenance": []
    },
    "kernelspec": {
      "name": "python3",
      "display_name": "Python 3"
    },
    "language_info": {
      "name": "python"
    }
  },
  "cells": [
    {
      "cell_type": "markdown",
      "source": [
        "# **Tokenization**\n",
        "\n",
        "- Tokenization is the process of converting a text or corpus into tokens (smaller pieces).\n",
        "\n",
        "- The conversion into tokens is carried out based on certain rules. Using regex, own rules can also be created.\n",
        "\n",
        "- Tokenization helps in text pre-processing tasks such as mapping parts of speech, finding and matching common words, cleaning text, and getting the data ready for advanced text analytics techniques like sentiment analysis.\n",
        "\n",
        "- Python has a very popular natural language toolkit library, called `nltk`, that has a rich set of functions for performing many NLP jobs.\n",
        "\n",
        "- It can be downloaded through pip and is also included in the Anaconda distribution."
      ],
      "metadata": {
        "id": "t_qckTTG201X"
      }
    },
    {
      "cell_type": "code",
      "source": [
        "import nltk\n",
        "nltk.download('punkt')\n",
        "import re\n",
        "from nltk import FreqDist\n",
        "import matplotlib.pyplot as plt\n",
        "from nltk.tokenize import sent_tokenize, word_tokenize\n",
        "import matplotlib.pyplot as plt\n",
        "from collections import Counter"
      ],
      "metadata": {
        "id": "PSEuIP3O2J2E",
        "colab": {
          "base_uri": "https://localhost:8080/"
        },
        "outputId": "542e2f7f-bbbc-46a5-b4b8-afcefdfb8a41"
      },
      "execution_count": 1,
      "outputs": [
        {
          "output_type": "stream",
          "name": "stderr",
          "text": [
            "[nltk_data] Downloading package punkt to /root/nltk_data...\n",
            "[nltk_data]   Unzipping tokenizers/punkt.zip.\n"
          ]
        }
      ]
    },
    {
      "cell_type": "code",
      "source": [
        "# Sample text corpus\n",
        "corpus = \"\"\"Spider-Man: No Way Home is a 2021 American superhero film based on the Marvel Comics character Spider-Man, co-produced by Columbia Pictures and Marvel Studios, and distributed by Sony Pictures Releasing. It is the sequel to Spider-Man: Homecoming (2017) and Spider-Man: Far From Home (2019), and the 27th film in the Marvel Cinematic Universe (MCU). The film was directed by Jon Watts and written by Chris McKenna and Erik Sommers. It stars Tom Holland as Peter Parker / Spider-Man alongside Zendaya, Benedict Cumberbatch, Jacob Batalon, Jon Favreau, Jamie Foxx, Willem Dafoe, Alfred Molina, Benedict Wong, Tony Revolori, Marisa Tomei, Andrew Garfield, and Tobey Maguire. (Source: Wikipedia).\"\"\"\n",
        "print(corpus)"
      ],
      "metadata": {
        "colab": {
          "base_uri": "https://localhost:8080/"
        },
        "id": "v9MrObgyoIh3",
        "outputId": "6975953c-0f02-4446-8b42-ffb19dc7a1ba"
      },
      "execution_count": 2,
      "outputs": [
        {
          "output_type": "stream",
          "name": "stdout",
          "text": [
            "Spider-Man: No Way Home is a 2021 American superhero film based on the Marvel Comics character Spider-Man, co-produced by Columbia Pictures and Marvel Studios, and distributed by Sony Pictures Releasing. It is the sequel to Spider-Man: Homecoming (2017) and Spider-Man: Far From Home (2019), and the 27th film in the Marvel Cinematic Universe (MCU). The film was directed by Jon Watts and written by Chris McKenna and Erik Sommers. It stars Tom Holland as Peter Parker / Spider-Man alongside Zendaya, Benedict Cumberbatch, Jacob Batalon, Jon Favreau, Jamie Foxx, Willem Dafoe, Alfred Molina, Benedict Wong, Tony Revolori, Marisa Tomei, Andrew Garfield, and Tobey Maguire. (Source: Wikipedia).\n"
          ]
        }
      ]
    },
    {
      "cell_type": "code",
      "source": [
        "print(word_tokenize(corpus))"
      ],
      "metadata": {
        "colab": {
          "base_uri": "https://localhost:8080/"
        },
        "id": "VKvIzHNhq0Xp",
        "outputId": "04f39e43-04fd-437e-ca53-65c28336bc85"
      },
      "execution_count": 3,
      "outputs": [
        {
          "output_type": "stream",
          "name": "stdout",
          "text": [
            "['Spider-Man', ':', 'No', 'Way', 'Home', 'is', 'a', '2021', 'American', 'superhero', 'film', 'based', 'on', 'the', 'Marvel', 'Comics', 'character', 'Spider-Man', ',', 'co-produced', 'by', 'Columbia', 'Pictures', 'and', 'Marvel', 'Studios', ',', 'and', 'distributed', 'by', 'Sony', 'Pictures', 'Releasing', '.', 'It', 'is', 'the', 'sequel', 'to', 'Spider-Man', ':', 'Homecoming', '(', '2017', ')', 'and', 'Spider-Man', ':', 'Far', 'From', 'Home', '(', '2019', ')', ',', 'and', 'the', '27th', 'film', 'in', 'the', 'Marvel', 'Cinematic', 'Universe', '(', 'MCU', ')', '.', 'The', 'film', 'was', 'directed', 'by', 'Jon', 'Watts', 'and', 'written', 'by', 'Chris', 'McKenna', 'and', 'Erik', 'Sommers', '.', 'It', 'stars', 'Tom', 'Holland', 'as', 'Peter', 'Parker', '/', 'Spider-Man', 'alongside', 'Zendaya', ',', 'Benedict', 'Cumberbatch', ',', 'Jacob', 'Batalon', ',', 'Jon', 'Favreau', ',', 'Jamie', 'Foxx', ',', 'Willem', 'Dafoe', ',', 'Alfred', 'Molina', ',', 'Benedict', 'Wong', ',', 'Tony', 'Revolori', ',', 'Marisa', 'Tomei', ',', 'Andrew', 'Garfield', ',', 'and', 'Tobey', 'Maguire', '.', '(', 'Source', ':', 'Wikipedia', ')', '.']\n"
          ]
        }
      ]
    },
    {
      "cell_type": "code",
      "source": [
        "print(sent_tokenize(corpus))"
      ],
      "metadata": {
        "colab": {
          "base_uri": "https://localhost:8080/"
        },
        "id": "MnpXabWerEir",
        "outputId": "840bd003-5e98-4f04-fc52-0bd6b0964934"
      },
      "execution_count": 4,
      "outputs": [
        {
          "output_type": "stream",
          "name": "stdout",
          "text": [
            "['Spider-Man: No Way Home is a 2021 American superhero film based on the Marvel Comics character Spider-Man, co-produced by Columbia Pictures and Marvel Studios, and distributed by Sony Pictures Releasing.', 'It is the sequel to Spider-Man: Homecoming (2017) and Spider-Man: Far From Home (2019), and the 27th film in the Marvel Cinematic Universe (MCU).', 'The film was directed by Jon Watts and written by Chris McKenna and Erik Sommers.', 'It stars Tom Holland as Peter Parker / Spider-Man alongside Zendaya, Benedict Cumberbatch, Jacob Batalon, Jon Favreau, Jamie Foxx, Willem Dafoe, Alfred Molina, Benedict Wong, Tony Revolori, Marisa Tomei, Andrew Garfield, and Tobey Maguire.', '(Source: Wikipedia).']\n"
          ]
        }
      ]
    },
    {
      "cell_type": "markdown",
      "source": [
        "It's important to understand the difference between the two functions `word_tokenize` and `sent_tokenize`.\n",
        "\n",
        "In the above outputs, we saw that both the functions create different outputs (tokens) for the same input (text data), and that's because of the difference in their functionalities."
      ],
      "metadata": {
        "id": "cT7cADFDrrWQ"
      }
    },
    {
      "cell_type": "code",
      "source": [
        "print(len(set(word_tokenize(corpus))))\n",
        "print(len(set(sent_tokenize(corpus))))"
      ],
      "metadata": {
        "colab": {
          "base_uri": "https://localhost:8080/"
        },
        "id": "Sbix6DILr2rv",
        "outputId": "42df6c22-59e5-4f45-a98d-7358d19e5990"
      },
      "execution_count": 5,
      "outputs": [
        {
          "output_type": "stream",
          "name": "stdout",
          "text": [
            "84\n",
            "5\n"
          ]
        }
      ]
    },
    {
      "cell_type": "code",
      "source": [],
      "metadata": {
        "id": "Z-_ZD8-psBm2"
      },
      "execution_count": null,
      "outputs": []
    },
    {
      "cell_type": "markdown",
      "source": [
        "## Frequency Plot ##"
      ],
      "metadata": {
        "id": "XfQwFZKWsEBI"
      }
    },
    {
      "cell_type": "code",
      "source": [
        "# Lowercase the corpus and split into words\n",
        "words = corpus.lower().split()\n",
        "words[0:9]"
      ],
      "metadata": {
        "colab": {
          "base_uri": "https://localhost:8080/"
        },
        "id": "PeW0r5l2AMeb",
        "outputId": "f2c578b0-a1f5-4d11-9342-e39408a601f2"
      },
      "execution_count": 7,
      "outputs": [
        {
          "output_type": "execute_result",
          "data": {
            "text/plain": [
              "['spider-man:',\n",
              " 'no',\n",
              " 'way',\n",
              " 'home',\n",
              " 'is',\n",
              " 'a',\n",
              " '2021',\n",
              " 'american',\n",
              " 'superhero']"
            ]
          },
          "metadata": {},
          "execution_count": 7
        }
      ]
    },
    {
      "cell_type": "code",
      "source": [
        "# Calculate word frequencies using Counter\n",
        "from collections import Counter\n",
        "word_freq = Counter(words)\n",
        "word_freq"
      ],
      "metadata": {
        "colab": {
          "base_uri": "https://localhost:8080/"
        },
        "id": "-pTjdtdey7cF",
        "outputId": "f45e5a4e-e1c4-42fd-86b8-0de4b8815670"
      },
      "execution_count": 13,
      "outputs": [
        {
          "output_type": "execute_result",
          "data": {
            "text/plain": [
              "Counter({'spider-man:': 3,\n",
              "         'no': 1,\n",
              "         'way': 1,\n",
              "         'home': 2,\n",
              "         'is': 2,\n",
              "         'a': 1,\n",
              "         '2021': 1,\n",
              "         'american': 1,\n",
              "         'superhero': 1,\n",
              "         'film': 3,\n",
              "         'based': 1,\n",
              "         'on': 1,\n",
              "         'the': 5,\n",
              "         'marvel': 3,\n",
              "         'comics': 1,\n",
              "         'character': 1,\n",
              "         'spider-man,': 1,\n",
              "         'co-produced': 1,\n",
              "         'by': 4,\n",
              "         'columbia': 1,\n",
              "         'pictures': 2,\n",
              "         'and': 7,\n",
              "         'studios,': 1,\n",
              "         'distributed': 1,\n",
              "         'sony': 1,\n",
              "         'releasing.': 1,\n",
              "         'it': 2,\n",
              "         'sequel': 1,\n",
              "         'to': 1,\n",
              "         'homecoming': 1,\n",
              "         '(2017)': 1,\n",
              "         'far': 1,\n",
              "         'from': 1,\n",
              "         '(2019),': 1,\n",
              "         '27th': 1,\n",
              "         'in': 1,\n",
              "         'cinematic': 1,\n",
              "         'universe': 1,\n",
              "         '(mcu).': 1,\n",
              "         'was': 1,\n",
              "         'directed': 1,\n",
              "         'jon': 2,\n",
              "         'watts': 1,\n",
              "         'written': 1,\n",
              "         'chris': 1,\n",
              "         'mckenna': 1,\n",
              "         'erik': 1,\n",
              "         'sommers.': 1,\n",
              "         'stars': 1,\n",
              "         'tom': 1,\n",
              "         'holland': 1,\n",
              "         'as': 1,\n",
              "         'peter': 1,\n",
              "         'parker': 1,\n",
              "         '/': 1,\n",
              "         'spider-man': 1,\n",
              "         'alongside': 1,\n",
              "         'zendaya,': 1,\n",
              "         'benedict': 2,\n",
              "         'cumberbatch,': 1,\n",
              "         'jacob': 1,\n",
              "         'batalon,': 1,\n",
              "         'favreau,': 1,\n",
              "         'jamie': 1,\n",
              "         'foxx,': 1,\n",
              "         'willem': 1,\n",
              "         'dafoe,': 1,\n",
              "         'alfred': 1,\n",
              "         'molina,': 1,\n",
              "         'wong,': 1,\n",
              "         'tony': 1,\n",
              "         'revolori,': 1,\n",
              "         'marisa': 1,\n",
              "         'tomei,': 1,\n",
              "         'andrew': 1,\n",
              "         'garfield,': 1,\n",
              "         'tobey': 1,\n",
              "         'maguire.': 1,\n",
              "         '(source:': 1,\n",
              "         'wikipedia).': 1})"
            ]
          },
          "metadata": {},
          "execution_count": 13
        }
      ]
    },
    {
      "cell_type": "code",
      "source": [
        "# Extract the top N words and their frequencies for plotting (e.g., top 10)\n",
        "top_words = word_freq.most_common(10)\n",
        "top_words"
      ],
      "metadata": {
        "colab": {
          "base_uri": "https://localhost:8080/"
        },
        "id": "NIi74xQZzT-h",
        "outputId": "0876edce-0551-4d2d-9eb9-c77bf5cda4f9"
      },
      "execution_count": 14,
      "outputs": [
        {
          "output_type": "execute_result",
          "data": {
            "text/plain": [
              "[('and', 7),\n",
              " ('the', 5),\n",
              " ('by', 4),\n",
              " ('spider-man:', 3),\n",
              " ('film', 3),\n",
              " ('marvel', 3),\n",
              " ('home', 2),\n",
              " ('is', 2),\n",
              " ('pictures', 2),\n",
              " ('it', 2)]"
            ]
          },
          "metadata": {},
          "execution_count": 14
        }
      ]
    },
    {
      "cell_type": "code",
      "source": [
        "# Separate words and frequencies\n",
        "words, frequencies = zip(*top_words)\n",
        "\n",
        "# Create a bar chart\n",
        "plt.figure(figsize=(10, 6))\n",
        "plt.bar(words, frequencies, color='blue')\n",
        "plt.xlabel('Words')\n",
        "plt.ylabel('Frequency')\n",
        "plt.title('Top 10 Word Frequencies in the Corpus')\n",
        "plt.xticks(rotation=45)  # Rotate x-axis labels for readability\n",
        "plt.tight_layout()\n",
        "plt.show()\n"
      ],
      "metadata": {
        "colab": {
          "base_uri": "https://localhost:8080/",
          "height": 607
        },
        "id": "xWor7WYl2J5X",
        "outputId": "a79c55d7-4e15-4c16-d622-b3d2c6f0bbea"
      },
      "execution_count": 18,
      "outputs": [
        {
          "output_type": "display_data",
          "data": {
            "text/plain": [
              "<Figure size 1000x600 with 1 Axes>"
            ],
            "image/png": "[encoded data removed]"
          },
          "metadata": {}
        }
      ]
    },
    {
      "cell_type": "code",
      "source": [],
      "metadata": {
        "id": "1uzZfJ6l2J8w"
      },
      "execution_count": null,
      "outputs": []
    },
    {
      "cell_type": "markdown",
      "source": [
        "## **Text Preprocessing** ##"
      ],
      "metadata": {
        "id": "Z3cjMzyu07uj"
      }
    },
    {
      "cell_type": "markdown",
      "source": [
        "a"
      ],
      "metadata": {
        "id": "AyetW7xQ4EmT"
      }
    },
    {
      "cell_type": "code",
      "source": [
        "import matplotlib.pyplot as plt\n",
        "from nltk.corpus import stopwords\n",
        "from nltk.tokenize import word_tokenize\n",
        "from nltk.stem import PorterStemmer\n",
        "from collections import Counter"
      ],
      "metadata": {
        "id": "iq_lZR55q7Kh"
      },
      "execution_count": 20,
      "outputs": []
    },
    {
      "cell_type": "code",
      "source": [
        "nltk.download('stopwords')\n",
        "\n",
        "# Define a function for text preprocessing\n",
        "def preprocess_text(text):\n",
        "    # Tokenize the text\n",
        "    words = word_tokenize(text)\n",
        "\n",
        "    # Convert to lowercase\n",
        "    words = [word.lower() for word in words]\n",
        "\n",
        "    # Remove punctuation and stopwords\n",
        "    words = [word for word in words if word.isalnum() and word not in stopwords.words('english')]\n",
        "\n",
        "    # Stem the words\n",
        "    stemmer = PorterStemmer()\n",
        "    words = [stemmer.stem(word) for word in words]\n",
        "\n",
        "    return words\n"
      ],
      "metadata": {
        "colab": {
          "base_uri": "https://localhost:8080/"
        },
        "id": "hPP1WIe5GSV0",
        "outputId": "69619b5d-7c04-4574-a2a8-4f880ae61fb1"
      },
      "execution_count": 19,
      "outputs": [
        {
          "output_type": "stream",
          "name": "stderr",
          "text": [
            "[nltk_data] Downloading package stopwords to /root/nltk_data...\n",
            "[nltk_data]   Unzipping corpora/stopwords.zip.\n"
          ]
        }
      ]
    },
    {
      "cell_type": "markdown",
      "source": [
        "The provided code defines a Python function called `preprocess_text(text)` that takes a text input and performs several text preprocessing steps on it. This function is typically used in Natural Language Processing (NLP) tasks to clean and prepare text data for analysis or machine learning. Here's an explanation of each step in the code:\n",
        "\n",
        "1. **Tokenization:**\n",
        "   - `words = word_tokenize(text)`\n",
        "   - The `word_tokenize` function is used to split the input text into individual words or tokens. Tokenization is the process of breaking down text into meaningful units, which are often words or punctuation marks.\n",
        "\n",
        "2. **Lowercasing:**\n",
        "   - `words = [word.lower() for word in words]`\n",
        "   - This step converts all the words in the text to lowercase. Lowercasing ensures that words like \"Word\" and \"word\" are treated as the same word, reducing the dimensionality of the data and making it more consistent.\n",
        "\n",
        "3. **Punctuation and Stopword Removal:**\n",
        "   - `words = [word for word in words if word.isalnum() and word not in stopwords.words('english')]`\n",
        "   - Here, the code iterates through each word in the list of tokens. It checks if the word is alphanumeric (contains letters or numbers) using `word.isalnum()`. This step removes punctuation and special characters from the text.\n",
        "\n",
        "   - Additionally, it checks if the word is not in a list of stopwords for the English language. Stopwords are common words like \"the,\" \"is,\" \"and,\" which are often removed because they don't carry significant meaning in many NLP tasks.\n",
        "   \n",
        "   The `stopwords.words('english')` function from the NLTK library provides a list of English stopwords.\n",
        "\n",
        "4. **Stemming:**\n",
        "   - `stemmer = PorterStemmer()`\n",
        "   - `words = [stemmer.stem(word) for word in words]`\n",
        "   - Stemming is a process that reduces words to their base or root form. In this code, the Porter stemming algorithm is used to perform stemming on each word in the list. For example, \"running\" and \"ran\" would both be reduced to \"run.\"\n",
        "\n",
        "5. **Return Preprocessed Text:**\n",
        "   - `return words`\n",
        "   - Finally, the preprocessed list of words is returned as the output of the function.\n",
        "\n",
        "After applying these text preprocessing steps, the input text is transformed into a cleaned and standardized format that is often more suitable for NLP tasks such as text classification, sentiment analysis, or information retrieval.\n",
        "\n",
        "The goal is to reduce noise in the text data and focus on the most relevant and essential information."
      ],
      "metadata": {
        "id": "xFbI0JX240sa"
      }
    },
    {
      "cell_type": "code",
      "source": [
        "# Preprocess the corpus\n",
        "preprocessed_words = preprocess_text(corpus)\n",
        "preprocessed_words[0:5]"
      ],
      "metadata": {
        "colab": {
          "base_uri": "https://localhost:8080/"
        },
        "id": "q-PtmyB85zuP",
        "outputId": "90a7aa16-2204-43a2-8207-423737563f57"
      },
      "execution_count": 21,
      "outputs": [
        {
          "output_type": "execute_result",
          "data": {
            "text/plain": [
              "['way', 'home', '2021', 'american', 'superhero']"
            ]
          },
          "metadata": {},
          "execution_count": 21
        }
      ]
    },
    {
      "cell_type": "code",
      "source": [
        "# Calculate word frequencies using Counter\n",
        "word_freq = Counter(preprocessed_words)\n",
        "\n",
        "# Extract the top N words and their frequencies for plotting (e.g., top 10)\n",
        "top_words = word_freq.most_common(10)\n",
        "\n",
        "# Separate words and frequencies\n",
        "words, frequencies = zip(*top_words)\n",
        "\n",
        "# Create a bar chart\n",
        "plt.figure(figsize=(10, 6))\n",
        "plt.bar(words, frequencies, color='green')\n",
        "plt.xlabel('Words')\n",
        "plt.ylabel('Frequency')\n",
        "plt.title('Top 10 Word Frequencies in the Preprocessed Corpus')\n",
        "plt.xticks(rotation=45)  # Rotate x-axis labels for readability\n",
        "plt.tight_layout()\n",
        "plt.show()"
      ],
      "metadata": {
        "colab": {
          "base_uri": "https://localhost:8080/",
          "height": 607
        },
        "id": "uGBrmgWpGSbM",
        "outputId": "c3590bd7-73a3-4a8b-af95-a1788099ddf9"
      },
      "execution_count": 23,
      "outputs": [
        {
          "output_type": "display_data",
          "data": {
            "text/plain": [
              "<Figure size 1000x600 with 1 Axes>"
            ],
            "image/png": "[encoded data removed]"
          },
          "metadata": {}
        }
      ]
    },
    {
      "cell_type": "code",
      "source": [],
      "metadata": {
        "id": "qyI1VL83GSfP"
      },
      "execution_count": null,
      "outputs": []
    }
  ]
}